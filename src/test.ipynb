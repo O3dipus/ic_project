{
 "cells": [
  {
   "cell_type": "code",
   "execution_count": 1,
   "metadata": {},
   "outputs": [],
   "source": [
    "from ilasp.generator.ilasp_task_generator import generate_ilasp_task"
   ]
  },
  {
   "cell_type": "code",
   "execution_count": 5,
   "metadata": {},
   "outputs": [],
   "source": [
    "#def generate_ilasp_task(num_states, accepting_state, rejecting_state, predicates, observables, goal_examples, dend_examples,\n",
    "                        #inc_examples, num_variables, learn_explicit, output_folder, output_filename)\n",
    "\n",
    "generate_ilasp_task(3, \"u_acc\", \"u_rej\", [\"lmk\", \"obt\", \"bld\"], [[\"ms\",\"wf\",\"cv\",\"pk\"],[\"ft\",\"wf\",\"mt\",\"ml\"],[\"ms\",\"sc\",\"ch\",\"ml\"]], [[[\"ch\"],[\"sc\"],[\"cv\"]],[[\"ms\"]]],[[[\"ch\"],[\"sc\"],[\"wf\"]],[[\"ch\"],[\"ft\"]]],[[[\"sc\"]]],2, False, \"\", \"f_test.ilasp\")"
   ]
  },
  {
   "cell_type": "code",
   "execution_count": 7,
   "metadata": {},
   "outputs": [],
   "source": [
    "from ilasp.solver.ilasp_solver import solve_ilasp_task"
   ]
  },
  {
   "cell_type": "code",
   "execution_count": 8,
   "metadata": {},
   "outputs": [
    {
     "name": "stderr",
     "output_type": "stream",
     "text": [
      "timeout: failed to run command ‘ILASP’: No such file or directory\n"
     ]
    },
    {
     "data": {
      "text/plain": [
       "True"
      ]
     },
     "execution_count": 8,
     "metadata": {},
     "output_type": "execute_result"
    }
   ],
   "source": [
    "# def solve_ilasp_task(ilasp_problem_filename, output_filename, version=\"4\", max_body_literals=3,\n",
    "#timeout=60*10, binary_folder_name=None, compute_minimal=False, operation=ILASP_OPERATION_SOLVE):\n",
    "\n",
    "solve_ilasp_task(\"f_test.ilasp\",\"f_out.txt\",binary_folder_name=\"../../../../ilasp/\")"
   ]
  },
  {
   "cell_type": "code",
   "execution_count": null,
   "metadata": {},
   "outputs": [],
   "source": []
  },
  {
   "cell_type": "code",
   "execution_count": 4,
   "metadata": {},
   "outputs": [
    {
     "data": {
      "text/plain": [
       "3"
      ]
     },
     "execution_count": 4,
     "metadata": {},
     "output_type": "execute_result"
    }
   ],
   "source": [
    "get_max_single_step_observations([[[\"ft\",\"ms\"],[\"ms\"]],[[\"ms\"],[\"ft\",\"ms\"]]],[[[\"ft\",\"ms\",\"cv\"],[\"ms\"]],[[\"ms\"],[\"ft\",\"ms\"]]],[[[\"ft\",\"ms\"],[\"ms\"]],[[\"ms\"],[\"ft\",\"ms\"]]])"
   ]
  }
 ],
 "metadata": {
  "kernelspec": {
   "display_name": "project_exp",
   "language": "python",
   "name": "python3"
  },
  "language_info": {
   "codemirror_mode": {
    "name": "ipython",
    "version": 3
   },
   "file_extension": ".py",
   "mimetype": "text/x-python",
   "name": "python",
   "nbconvert_exporter": "python",
   "pygments_lexer": "ipython3",
   "version": "3.10.9"
  },
  "orig_nbformat": 4
 },
 "nbformat": 4,
 "nbformat_minor": 2
}
